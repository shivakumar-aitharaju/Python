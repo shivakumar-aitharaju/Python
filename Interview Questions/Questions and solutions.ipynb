{
 "cells": [
  {
   "cell_type": "code",
   "execution_count": 3,
   "metadata": {},
   "outputs": [
    {
     "name": "stdout",
     "output_type": "stream",
     "text": [
      "[2, 13, 14]\n",
      "[2, 1, 10]\n",
      "[-10, 6, 3]\n"
     ]
    }
   ],
   "source": [
    "# Matrix \n",
    "\n",
    "a =  [[1,5,7],\n",
    "      [-4 ,3,6],\n",
    "      [-7 ,4,-2]]\n",
    "\n",
    "b = [[1,8,7],\n",
    "     [6,-2,4],\n",
    "     [-3,2,5]]\n",
    "\n",
    "result =  [[0,0,0],\n",
    "           [0,0,0],\n",
    "           [0,0,0]]\n",
    "\n",
    "\n",
    "for i in range(len(a)):\n",
    "    for j in range(len(a[0])):\n",
    "        result[i][j] = a[i][j] + b[i][j]\n",
    "        \n",
    "        \n",
    "for k in result:\n",
    "    print(k)\n"
   ]
  },
  {
   "cell_type": "code",
   "execution_count": null,
   "metadata": {},
   "outputs": [],
   "source": [
    "# Write a Python program to find the factorial of a number.\n",
    "# for eg: 4! = 4*3*2*1\n",
    "\n",
    "def fact(n):\n",
    "    if n == 0:\n",
    "        return 1\n",
    "    else:\n",
    "        return n * fact(n - 1)\n",
    "   \n",
    "number = 4\n",
    "result = fact(number)\n",
    "\n",
    "print(f\"The factorial of {number} is {result}\")\n"
   ]
  },
  {
   "cell_type": "code",
   "execution_count": null,
   "metadata": {},
   "outputs": [],
   "source": [
    "# Write a Python program to check if a string is a palindrome.\n",
    "\n",
    "def is_palindrome(name):\n",
    "    reversed_name = name[::-1]\n",
    "    return name == reversed_name\n",
    "\n",
    "\n",
    "#Check the function\n",
    "word = 'nothon'\n",
    "if is_palindrome(word):\n",
    "    print(f\"{word} is a palindrome\")\n",
    "else:\n",
    "    print(f\"{word} is not a palindrome\")\n",
    "        "
   ]
  }
 ],
 "metadata": {
  "kernelspec": {
   "display_name": "Python 3",
   "language": "python",
   "name": "python3"
  },
  "language_info": {
   "codemirror_mode": {
    "name": "ipython",
    "version": 3
   },
   "file_extension": ".py",
   "mimetype": "text/x-python",
   "name": "python",
   "nbconvert_exporter": "python",
   "pygments_lexer": "ipython3",
   "version": "3.10.13"
  },
  "orig_nbformat": 4
 },
 "nbformat": 4,
 "nbformat_minor": 2
}
